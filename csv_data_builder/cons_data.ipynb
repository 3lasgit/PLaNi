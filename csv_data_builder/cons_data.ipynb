{
 "cells": [
  {
   "cell_type": "code",
   "execution_count": 45,
   "metadata": {},
   "outputs": [],
   "source": [
    "import os\n",
    "import pandas as pd\n",
    "\n",
    "# Dossier racine contenant les répertoires par année\n",
    "root_folder = \"calls_rep\"\n",
    "\n",
    "# Initialise une liste pour stocker les dataframes\n",
    "dataframes = []\n",
    "\n",
    "# Parcourir récursivement les sous-répertoires\n",
    "for dirpath, dirnames, filenames in os.walk(root_folder):\n",
    "    # Parcourir les fichiers dans le répertoire courant\n",
    "    for filename in filenames:\n",
    "        if filename.endswith(\".csv\"):\n",
    "            file_path = dirpath+'\\\\\\\\' + filename#os.path.join(dirpath, filename)\n",
    "            df = pd.read_csv(file_path, sep=';')\n",
    "            dataframes.append(df)\n",
    "            # try:\n",
    "            #     df = pd.read_csv(file_path)\n",
    "            # except pd.errors.ParserError:\n",
    "            #     # Gérer l'erreur de parsing ici\n",
    "            #     print(\"Erreur de parsing dans le fichier CSV : \", file_path)\n",
    "\n",
    "# Concaténer tous les dataframes\n",
    "result = pd.concat(dataframes, sort=False)\n",
    "\n",
    "# Sauvegarder le résultat dans un nouveau fichier CSV\n",
    "result.to_csv('calls_fr_2020-06-01-to_'+filenames[-1][:10]+'.csv', index=False, sep=';')"
   ]
  },
  {
   "cell_type": "code",
   "execution_count": 51,
   "metadata": {},
   "outputs": [
    {
     "data": {
      "text/plain": [
       "'calls_fr_2020-06-01-to_2023-07-05.csv'"
      ]
     },
     "execution_count": 51,
     "metadata": {},
     "output_type": "execute_result"
    }
   ],
   "source": [
    "'calls_fr_2020-06-01-to_'+filenames[-1][:10]+'.csv'"
   ]
  },
  {
   "cell_type": "code",
   "execution_count": null,
   "metadata": {},
   "outputs": [],
   "source": [
    "# ### S'il y a des colonnes différentes d'un fichier à l'autre \n",
    "# import os\n",
    "# import pandas as pd\n",
    "\n",
    "# # Dossier racine contenant les répertoires par année\n",
    "# root_folder = \"calls_data\"\n",
    "\n",
    "# # Initialise une liste pour stocker les dataframes\n",
    "# dataframes = []\n",
    "\n",
    "# # Parcourir récursivement les sous-répertoires\n",
    "# for dirpath, dirnames, filenames in os.walk(root_folder):\n",
    "#     # Parcourir les fichiers dans le répertoire courant\n",
    "#     for filename in filenames:\n",
    "#         if filename.endswith(\".csv\"):\n",
    "#             file_path = os.path.join(dirpath, filename)\n",
    "#             df = pd.read_csv(file_path)\n",
    "\n",
    "#             # Récupérer les colonnes du DataFrame actuel\n",
    "#             current_columns = set(df.columns)\n",
    "\n",
    "#             # Récupérer les colonnes déjà rencontrées\n",
    "#             previous_columns = set().union(*[set(df.columns) for df in dataframes])\n",
    "\n",
    "#             # Colonnes manquantes dans les DataFrames précédents\n",
    "#             missing_columns = previous_columns - current_columns\n",
    "\n",
    "#             # Ajouter les colonnes manquantes au DataFrame actuel\n",
    "#             for column in missing_columns:\n",
    "#                 df[column] = pd.NA\n",
    "\n",
    "#             # Ajouter le DataFrame à la liste\n",
    "#             dataframes.append(df)\n",
    "\n",
    "# # Concaténer tous les dataframes\n",
    "# result = pd.concat(dataframes, sort=False)\n",
    "\n",
    "# # Sauvegarder le résultat dans un nouveau fichier CSV\n",
    "# result.to_csv('consolidated.csv', index=False)\n"
   ]
  }
 ],
 "metadata": {
  "kernelspec": {
   "display_name": ".venv",
   "language": "python",
   "name": "python3"
  },
  "language_info": {
   "codemirror_mode": {
    "name": "ipython",
    "version": 3
   },
   "file_extension": ".py",
   "mimetype": "text/x-python",
   "name": "python",
   "nbconvert_exporter": "python",
   "pygments_lexer": "ipython3",
   "version": "3.8.6"
  },
  "orig_nbformat": 4
 },
 "nbformat": 4,
 "nbformat_minor": 2
}
