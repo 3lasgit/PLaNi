{
 "cells": [
  {
   "cell_type": "code",
   "execution_count": null,
   "id": "70a63ffe",
   "metadata": {
    "tags": []
   },
   "outputs": [],
   "source": [
    "import pandas as pd\n",
    "import numpy as np\n",
    "import matplotlib.pyplot as plt\n",
    "import seaborn as sns\n",
    "import lightgbm as lgb\n",
    "import plotly.express as px\n",
    "import plotly.graph_objects as go\n",
    "from plotly.subplots import make_subplots"
   ]
  },
  {
   "cell_type": "code",
   "execution_count": null,
   "id": "74394273",
   "metadata": {
    "tags": []
   },
   "outputs": [],
   "source": [
    "from gives import *\n",
    "df_phone.head()"
   ]
  },
  {
   "cell_type": "code",
   "execution_count": null,
   "id": "b26ab6f5-67ae-46df-91ff-31f797d12d8e",
   "metadata": {
    "tags": []
   },
   "outputs": [],
   "source": [
    "df=df_agg(df_phone,freq='H',y_name='volume')"
   ]
  },
  {
   "cell_type": "code",
   "execution_count": null,
   "id": "0fadc439-6c27-4ded-b9f5-ee3a6586c30b",
   "metadata": {
    "jupyter": {
     "source_hidden": true
    },
    "tags": []
   },
   "outputs": [],
   "source": [
    "# df=df_phone.copy()\n",
    "# # Agréger les vases par jour et compter le nombre de cases pour chaque jour\n",
    "# df = df.groupby(pd.Grouper(key='Consideration Start', freq='H')).size().reset_index(name='volume')\n",
    "\n",
    "# # Ajout des features temporelles détaillées\n",
    "# df=df.assign(year=df['Consideration Start'].dt.isocalendar()['year'], \n",
    "#              week=df['Consideration Start'].dt.isocalendar()['week'],\n",
    "#              day=df['Consideration Start'].dt.isocalendar()['day'],\n",
    "#              #quarter=df['Consideration Start'].dt.quarter,\n",
    "#              month=df['Consideration Start'].dt.month,\n",
    "#              day_mon=df['Consideration Start'].dt.day,\n",
    "#              hour=df['Consideration Start'].dt.hour*100+df['Consideration Start'].dt.minute)\n",
    "\n",
    "# # Éjection des H off-office lorsque l'on est freq=min\n",
    "# df.drop(index=df.loc[(df['hour']<800) | (df['hour']>=1800)].index, inplace=True)\n",
    "\n",
    "# # Conversion de la colonne de date en index\n",
    "# df.set_index('Consideration Start', inplace=True)\n",
    "\n",
    "# # Éjection des samedis et dimanches lorsque l'on est en phone only\n",
    "# df.drop(index=df.loc[(df['day']==6) | (df['day']==7)].index, inplace=True)\n",
    "\n",
    "# # Conversion dans le type adéquat pour LGBM\n",
    "# df.loc[:,df.columns] = df.loc[:,df.columns].astype(int)\n",
    "\n",
    "# # Rajoute les vacances, jours fériés et d-1 fériés\n",
    "# df=df.assign(vac_A=df.apply(lambda x : d.is_holiday_for_zone(datetime.date(x['year'],x['month'],x['day_mon']),'A'),axis=1),\n",
    "#              vac_B=df.apply(lambda x : d.is_holiday_for_zone(datetime.date(x['year'],x['month'],x['day_mon']),'B'),axis=1),\n",
    "#              vac_C=df.apply(lambda x : d.is_holiday_for_zone(datetime.date(x['year'],x['month'],x['day_mon']),'C'),axis=1),\n",
    "#              ouvre=df.apply(lambda x : cal.is_working_day(datetime.date(x['year'],x['month'],x['day_mon'])),axis=1),\n",
    "#              begin=df.apply(lambda x : 800<=x['hour']<900, axis=1),\n",
    "#              lunch=df.apply(lambda x : 1200<=x['hour']<1300, axis=1),\n",
    "#              end=df.apply(lambda x : 1700<=x['hour']<1800, axis=1)\n",
    "#              )\n",
    "\n",
    "\n",
    "# df['d-1_fer']=((df['ouvre'].shift(1,fill_value=True)-1)*-1).apply(bool)\n",
    "# df.loc[(df['day']==1) & (df['d-1_fer'])==True,'d-1_fer']=False \n",
    "\n",
    "# # Éjection des samedis et dimanches lorsque l'on est en phone only ainsi que les jours fériés\n",
    "# df.drop(index=df.loc[df.ouvre==False].index, inplace=True)\n",
    "# df.drop(columns='ouvre', inplace=True)"
   ]
  },
  {
   "cell_type": "code",
   "execution_count": null,
   "id": "5551f7e9-456f-4182-910b-a9e5443eb100",
   "metadata": {
    "tags": []
   },
   "outputs": [],
   "source": [
    "df.head(40)"
   ]
  },
  {
   "cell_type": "code",
   "execution_count": null,
   "id": "972a890f-4b37-4e71-8dfe-9c5cca87f034",
   "metadata": {
    "tags": []
   },
   "outputs": [],
   "source": [
    "# plt.figure(figsize=((10,10)))\n",
    "# corr=df.corr()\n",
    "# sns.heatmap(corr, vmax=1.0, center=0, fmt='.2f', square=True, linewidths=.5, annot=True, cbar_kws={\"shrink\": .70})\n",
    "# plt.show()"
   ]
  },
  {
   "cell_type": "code",
   "execution_count": null,
   "id": "b988af7d-326a-4d75-9e7b-ef8ca6d08468",
   "metadata": {
    "tags": []
   },
   "outputs": [],
   "source": [
    "X_train, X_test, y_train, y_test=train_test_split(df, train_beg='2020-04-01', train_end='2022-03-31', test_beg='2022-04-01', test_end='2023-04-12', y_name='volume')"
   ]
  },
  {
   "cell_type": "code",
   "execution_count": null,
   "id": "5e8743e7",
   "metadata": {
    "jupyter": {
     "source_hidden": true
    },
    "tags": []
   },
   "outputs": [],
   "source": [
    "# #Données train et test\n",
    "# train=df.loc['2020-04-01':'2022-03-31']\n",
    "# test=df.loc['2022-04-01':'2023-04-12']\n",
    "\n",
    "# # Variables d'entrée\n",
    "# X_train = train.drop(['volume'], axis=1)\n",
    "# X_test = test.drop(['volume'], axis=1)\n",
    "\n",
    "# # Variable de sortie\n",
    "# y_train = train['volume']\n",
    "# y_test = test['volume']"
   ]
  },
  {
   "cell_type": "code",
   "execution_count": null,
   "id": "8a74aed5",
   "metadata": {
    "tags": []
   },
   "outputs": [],
   "source": [
    "model = lgb.LGBMRegressor(objective= 'tweedie',\n",
    "    num_leaves= 31,\n",
    "    learning_rate= 0.2,\n",
    "                         )\n",
    "model.fit(X_train, y_train, eval_set=[(X_test, y_test), (X_train, y_train)], verbose=0)\n",
    "lgb.plot_metric(model)"
   ]
  },
  {
   "cell_type": "code",
   "execution_count": null,
   "id": "0ed45523-aa61-4efd-8aac-191b0cbec862",
   "metadata": {
    "tags": []
   },
   "outputs": [],
   "source": [
    "params = {\n",
    "    'objective': 'regression',\n",
    "    'metric': 'rmse',\n",
    "    'boosting_type': 'gbdt',\n",
    "    'num_leaves': 31,\n",
    "    'learning_rate': 0.05,\n",
    "    #'cat_feature=name' : ['year', 'week', 'day','quarter', 'month', 'day_mon', 'vac_A', 'vac_B', 'vac_C', 'lunch', 'd-1_fer']\n",
    "}\n",
    "\n",
    "model_bis = lgb.LGBMRegressor(**params)\n",
    "model_bis.fit(X_train, y_train, eval_set=[(X_test, y_test), (X_train, y_train)], verbose=0)\n",
    "lgb.plot_metric(model_bis)"
   ]
  },
  {
   "cell_type": "code",
   "execution_count": null,
   "id": "868ab68a-2f8d-432a-8343-ae3def98967e",
   "metadata": {
    "tags": []
   },
   "outputs": [],
   "source": [
    "# train_lgb = lgb.Dataset(data = X_train, label = y_train, feature_name = list(X_train))\n",
    "# cv_results = lgb.cv(params,train_lgb,stratified=False, shuffle=False, num_boost_round=1)"
   ]
  },
  {
   "cell_type": "code",
   "execution_count": null,
   "id": "147b6eb9-b803-454f-86ac-d15396ede7c5",
   "metadata": {
    "tags": []
   },
   "outputs": [],
   "source": [
    "tabl_err([model, model_bis], X_test, y_test)"
   ]
  },
  {
   "cell_type": "code",
   "execution_count": null,
   "id": "3c3698c1-cb0b-49cf-a8cb-1721fdc449b4",
   "metadata": {
    "tags": []
   },
   "outputs": [],
   "source": [
    "fig = go.Figure()\n",
    "\n",
    "fig.add_trace(go.Scatter(name=\"Vraies valeurs\", x=y_test.index, y=y_test, mode='lines+markers'))\n",
    "fig.add_trace(go.Scatter(name=\"LGBM\", x=y_test.index, y=model.predict(X_test).astype(int), mode='lines+markers'))\n",
    "fig.add_trace(go.Scatter(name=\"LGBM_bis\", x=y_test.index, y=model_bis.predict(X_test).astype(int), mode='lines+markers'))\n",
    "fig.show()\n",
    "\n",
    "# avec boucle for :\n",
    "# fig = go.Figure()\n",
    "# for y_ in [test['volume'],model.predict(X_test).astype(int),model_bis.predict(X_test).astype(int)] :\n",
    "#     fig.add_trace(go.Scatter(name=\"Vraies valeurs\", x=test.index, y=y_, mode='lines+markers'))\n",
    "# fig.show()"
   ]
  },
  {
   "cell_type": "code",
   "execution_count": null,
   "id": "768bf52c-364b-4af2-b96b-8de5b5dfb25b",
   "metadata": {
    "tags": []
   },
   "outputs": [],
   "source": [
    "y_pred=model_bis.predict(X_test).astype(int)\n",
    "# np.linalg.norm(pic(y_test)[0]-pic(y_pred)[0],1)"
   ]
  },
  {
   "cell_type": "code",
   "execution_count": null,
   "id": "8e546bd5-ec04-4b1e-b540-6fb3dd0e6e35",
   "metadata": {
    "tags": []
   },
   "outputs": [],
   "source": [
    "fig = go.Figure()\n",
    "\n",
    "fig.add_trace(go.Scatter(name=\"Vraies valeurs\", x=y_test.index, y=y_test, mode='lines+markers'))\n",
    "fig.add_trace(go.Scatter(name=\"Pics\", x=y_test[pic(y_test)[0]].index, y=y_test[pic(y_test)[0]], mode='markers', marker_color='green'))\n",
    "fig.show()\n"
   ]
  },
  {
   "cell_type": "markdown",
   "id": "7fcb7de4-bafc-47a6-b4e1-47602ba2d7d1",
   "metadata": {},
   "source": [
    "## Learning error"
   ]
  },
  {
   "cell_type": "code",
   "execution_count": null,
   "id": "d5897ddb-7228-4e5f-9a17-fbc6ca1cc559",
   "metadata": {
    "tags": []
   },
   "outputs": [],
   "source": [
    "tabl_err([model, model_bis], train.loc['2021-03-08':'2022-03-08'].drop(['volume'], axis=1), df.loc['2021-03-08':'2022-03-08'].volume)"
   ]
  },
  {
   "cell_type": "code",
   "execution_count": null,
   "id": "242dbb0f-f4f8-4658-8c87-19d9e123d9c8",
   "metadata": {
    "tags": []
   },
   "outputs": [],
   "source": [
    "fig = go.Figure()\n",
    "fig.add_trace(go.Scatter(name=\"Vraies valeurs\", x=train.loc['2021-03-08':'2022-03-08'].index, y=df.loc['2021-03-08':'2022-03-08'].volume, mode='lines+markers'))\n",
    "fig.add_trace(go.Scatter(name=\"LGBM\", x=train.loc['2021-03-08':'2022-03-08'].index, y=model.predict(train.loc['2021-03-08':'2022-03-08'].drop(['volume'], axis=1)).astype(int), mode='lines+markers'))\n",
    "fig.add_trace(go.Scatter(name=\"LGBM_bis\", x=train.loc['2021-03-08':'2022-03-08'].index, y=model_bis.predict(train.loc['2021-03-08':'2022-03-08'].drop(['volume'], axis=1)).astype(int), mode='lines+markers'))\n",
    "fig.show()\n",
    "\n",
    "# avec boucle for :\n",
    "# fig = go.Figure()\n",
    "# for y_ in [test['volume'],model.predict(X_test).astype(int),model_bis.predict(X_test).astype(int)] :\n",
    "#     fig.add_trace(go.Scatter(name=\"Vraies valeurs\", x=test.index, y=y_, mode='lines+markers'))\n",
    "# fig.show()"
   ]
  },
  {
   "cell_type": "markdown",
   "id": "f815086f-cb87-42aa-bbec-e4f57918798b",
   "metadata": {},
   "source": [
    "## Plot Aver. Perc. Err."
   ]
  },
  {
   "cell_type": "code",
   "execution_count": null,
   "id": "dc87c377-8723-4949-a533-5e4ac1b1af36",
   "metadata": {
    "tags": []
   },
   "outputs": [],
   "source": [
    "fig = go.Figure()\n",
    "test_error=predict_test(model, pd.DataFrame(), X_test, y_test)\n",
    "fig.add_trace(go.Scatter(name=\"LGBM\", x=test.index, y=test_error[\"absolute_error_%\"], mode='lines+markers'))\n",
    "fig.add_trace(go.Scatter(name=\"LGBM_bis\", x=test.index, y=predict_test(model_bis, pd.DataFrame(), X_test, y_test)[\"absolute_error_%\"], mode='lines+markers'))"
   ]
  },
  {
   "cell_type": "markdown",
   "id": "b4e9a61e-f4f5-4731-b800-96f279e408be",
   "metadata": {},
   "source": [
    "## Learning & Test Error"
   ]
  },
  {
   "cell_type": "code",
   "execution_count": null,
   "id": "d6104e95-422d-47d9-9b0e-2d185d343edf",
   "metadata": {
    "tags": []
   },
   "outputs": [],
   "source": [
    "fig = go.Figure()\n",
    "fig.add_trace(go.Scatter(name=\"Vraies valeurs\", x=df.index, y=pd.concat([df.loc[:'2022-03-08'].volume,test.volume]), mode='lines+markers'))\n",
    "fig.add_trace(go.Scatter(name=\"LGBM\", x=train.loc[:'2022-03-08'].index, y=model.predict(train.loc[:'2022-03-08'].drop(['volume'], axis=1)).astype(int), mode='lines+markers'))\n",
    "fig.add_trace(go.Scatter(name=\"LGBM_bis\", x=train.loc[:'2022-03-08'].index, y=model_bis.predict(train.loc[:'2022-03-08'].drop(['volume'], axis=1)).astype(int), mode='lines+markers'))\n",
    "\n",
    "fig.add_trace(go.Scatter(name=\"LGBM_test\", x=test.index, y=model.predict(X_test).astype(int), mode='lines+markers', marker_color='violet'))\n",
    "fig.add_trace(go.Scatter(name=\"LGBM_bis_test\", x=test.index, y=model_bis.predict(X_test).astype(int), mode='lines+markers',  marker_color='yellow'))\n",
    "fig.show()"
   ]
  },
  {
   "cell_type": "code",
   "execution_count": null,
   "id": "cdbf2266-08a5-4463-bb73-0ec60b83c126",
   "metadata": {
    "tags": []
   },
   "outputs": [],
   "source": [
    "tabl_err_all([model, model_bis], train.loc['2021-03-08':'2022-03-08'].drop(['volume'], axis=1), df.loc['2021-03-08':'2022-03-08'].volume, X_test, y_test) "
   ]
  }
 ],
 "metadata": {
  "kernelspec": {
   "display_name": "myname",
   "language": "python",
   "name": "myname"
  },
  "language_info": {
   "codemirror_mode": {
    "name": "ipython",
    "version": 3
   },
   "file_extension": ".py",
   "mimetype": "text/x-python",
   "name": "python",
   "nbconvert_exporter": "python",
   "pygments_lexer": "ipython3",
   "version": "3.8.6"
  }
 },
 "nbformat": 4,
 "nbformat_minor": 5
}
